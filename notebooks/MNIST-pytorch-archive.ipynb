{
 "cells": [
  {
   "cell_type": "markdown",
   "id": "5dc947e8-be67-43ac-bea3-2eb7ab13c116",
   "metadata": {},
   "source": [
    "# MNIST-pytorch"
   ]
  },
  {
   "cell_type": "markdown",
   "id": "9c84537b-1deb-432e-a962-10254a623474",
   "metadata": {},
   "source": [
    "## Principe :\n",
    "\n",
    "Choix du Jeu de Données et du Modèle\n",
    "- problème de classification relativement simple :\n",
    "- Jeu de données MNIST (classification de chiffres manuscrits) et classification multiclasse (les 26 lettres)\n",
    "- Modèle de réseau de neurones convolutif (CNN) relativement simple"
   ]
  },
  {
   "cell_type": "markdown",
   "id": "8f7245ed-966f-4bf6-a16b-23719ac79ae6",
   "metadata": {},
   "source": [
    "## Architecture du Modèle\n",
    "\n",
    "Un réseau de neurones simple avec une couche cachée\n",
    "Utilise nn.Sequential pour définir l'architecture\n",
    "Transformation des images en vecteurs plats\n",
    "\n",
    "\n",
    "Fonctions Principales\n",
    "\n",
    "- train_model() : Gère l'entraînement sur plusieurs époques\n",
    "- evaluate_model() : Calcule la précision sur le jeu de test\n",
    "- main() : Orchestre le chargement des données, l'entraînement et l'évaluation\n",
    "\n",
    "\n",
    "Particularités\n",
    "\n",
    "- Utilisation de DataLoader pour le chargement des données\n",
    "- Normalisation des images\n",
    "- Sauvegarde du modèle entraîné\n",
    "\n",
    "Résultats Attendus\n",
    "\n",
    "- Précision autour de 95-97% sur MNIST\n",
    "- Temps d'entraînement court (quelques minutes)\n"
   ]
  },
  {
   "cell_type": "markdown",
   "id": "1c6df304-5d9a-4064-a691-d47df03c1595",
   "metadata": {},
   "source": [
    "## Installation des librairies"
   ]
  },
  {
   "cell_type": "code",
   "execution_count": 3,
   "id": "c31613a4-4e94-4faf-8448-4d087ab27136",
   "metadata": {},
   "outputs": [
    {
     "name": "stdout",
     "output_type": "stream",
     "text": [
      "Requirement already satisfied: torch in ./venv/lib/python3.10/site-packages (2.6.0)\n",
      "Requirement already satisfied: torchvision in ./venv/lib/python3.10/site-packages (0.21.0)\n",
      "Requirement already satisfied: matplotlib in ./venv/lib/python3.10/site-packages (3.10.0)\n",
      "Requirement already satisfied: nvidia-nvtx-cu12==12.4.127 in ./venv/lib/python3.10/site-packages (from torch) (12.4.127)\n",
      "Requirement already satisfied: nvidia-curand-cu12==10.3.5.147 in ./venv/lib/python3.10/site-packages (from torch) (10.3.5.147)\n",
      "Requirement already satisfied: nvidia-cudnn-cu12==9.1.0.70 in ./venv/lib/python3.10/site-packages (from torch) (9.1.0.70)\n",
      "Requirement already satisfied: nvidia-cuda-cupti-cu12==12.4.127 in ./venv/lib/python3.10/site-packages (from torch) (12.4.127)\n",
      "Requirement already satisfied: nvidia-nccl-cu12==2.21.5 in ./venv/lib/python3.10/site-packages (from torch) (2.21.5)\n",
      "Requirement already satisfied: filelock in ./venv/lib/python3.10/site-packages (from torch) (3.17.0)\n",
      "Requirement already satisfied: triton==3.2.0 in ./venv/lib/python3.10/site-packages (from torch) (3.2.0)\n",
      "Requirement already satisfied: sympy==1.13.1 in ./venv/lib/python3.10/site-packages (from torch) (1.13.1)\n",
      "Requirement already satisfied: nvidia-cuda-nvrtc-cu12==12.4.127 in ./venv/lib/python3.10/site-packages (from torch) (12.4.127)\n",
      "Requirement already satisfied: typing-extensions>=4.10.0 in ./venv/lib/python3.10/site-packages (from torch) (4.12.2)\n",
      "Requirement already satisfied: nvidia-cuda-runtime-cu12==12.4.127 in ./venv/lib/python3.10/site-packages (from torch) (12.4.127)\n",
      "Requirement already satisfied: networkx in ./venv/lib/python3.10/site-packages (from torch) (3.4.2)\n",
      "Requirement already satisfied: fsspec in ./venv/lib/python3.10/site-packages (from torch) (2025.2.0)\n",
      "Requirement already satisfied: nvidia-nvjitlink-cu12==12.4.127 in ./venv/lib/python3.10/site-packages (from torch) (12.4.127)\n",
      "Requirement already satisfied: nvidia-cusolver-cu12==11.6.1.9 in ./venv/lib/python3.10/site-packages (from torch) (11.6.1.9)\n",
      "Requirement already satisfied: jinja2 in ./venv/lib/python3.10/site-packages (from torch) (3.1.5)\n",
      "Requirement already satisfied: nvidia-cufft-cu12==11.2.1.3 in ./venv/lib/python3.10/site-packages (from torch) (11.2.1.3)\n",
      "Requirement already satisfied: nvidia-cusparse-cu12==12.3.1.170 in ./venv/lib/python3.10/site-packages (from torch) (12.3.1.170)\n",
      "Requirement already satisfied: nvidia-cublas-cu12==12.4.5.8 in ./venv/lib/python3.10/site-packages (from torch) (12.4.5.8)\n",
      "Requirement already satisfied: nvidia-cusparselt-cu12==0.6.2 in ./venv/lib/python3.10/site-packages (from torch) (0.6.2)\n",
      "Requirement already satisfied: mpmath<1.4,>=1.1.0 in ./venv/lib/python3.10/site-packages (from sympy==1.13.1->torch) (1.3.0)\n",
      "Requirement already satisfied: numpy in ./venv/lib/python3.10/site-packages (from torchvision) (2.2.2)\n",
      "Requirement already satisfied: pillow!=8.3.*,>=5.3.0 in ./venv/lib/python3.10/site-packages (from torchvision) (11.1.0)\n",
      "Requirement already satisfied: python-dateutil>=2.7 in ./venv/lib/python3.10/site-packages (from matplotlib) (2.9.0.post0)\n",
      "Requirement already satisfied: kiwisolver>=1.3.1 in ./venv/lib/python3.10/site-packages (from matplotlib) (1.4.8)\n",
      "Requirement already satisfied: packaging>=20.0 in ./venv/lib/python3.10/site-packages (from matplotlib) (24.2)\n",
      "Requirement already satisfied: cycler>=0.10 in ./venv/lib/python3.10/site-packages (from matplotlib) (0.12.1)\n",
      "Requirement already satisfied: fonttools>=4.22.0 in ./venv/lib/python3.10/site-packages (from matplotlib) (4.55.8)\n",
      "Requirement already satisfied: pyparsing>=2.3.1 in ./venv/lib/python3.10/site-packages (from matplotlib) (3.2.1)\n",
      "Requirement already satisfied: contourpy>=1.0.1 in ./venv/lib/python3.10/site-packages (from matplotlib) (1.3.1)\n",
      "Requirement already satisfied: six>=1.5 in ./venv/lib/python3.10/site-packages (from python-dateutil>=2.7->matplotlib) (1.17.0)\n",
      "Requirement already satisfied: MarkupSafe>=2.0 in ./venv/lib/python3.10/site-packages (from jinja2->torch) (3.0.2)\n"
     ]
    }
   ],
   "source": [
    "!pip install torch torchvision matplotlib"
   ]
  },
  {
   "cell_type": "markdown",
   "id": "7e9a544c-e54d-478a-8bf1-436b9ca02f23",
   "metadata": {},
   "source": [
    "## Import des librairies\n",
    "\n",
    "Permettant de :\n",
    "- Utiliser les fonctionnalités de base de PyTorch\n",
    "- Importer des modules pour les réseaux de neurones\n",
    "- Charger des jeux de données (MNIST)\n",
    "- Faire des transformations sur les données\n",
    "- Créer des chargeurs de données"
   ]
  },
  {
   "cell_type": "code",
   "execution_count": 4,
   "id": "4f399fe6-98b1-41b7-8f2c-9ead8b9fab3f",
   "metadata": {},
   "outputs": [],
   "source": [
    "import torch\n",
    "import torch.nn as nn\n",
    "import torch.optim as optim\n"
   ]
  },
  {
   "cell_type": "markdown",
   "id": "c3e96a8f-f381-4d7b-89b2-bc092e00b968",
   "metadata": {},
   "source": [
    "## Définition du Modèle\n",
    "\n",
    "Cette classe définit l'architecture du réseau de neurones\n",
    "- input_size=784 (28x28 pixels aplatis)\n",
    "- hidden_size=128 : couche cachée de 128 neurones\n",
    "- num_classes=10 : 10 classes pour les chiffres de 0 à 9\n",
    "- nn.Sequential crée un empilement de couches\n",
    "- nn.Linear : couches de neurones\n",
    "- nn.ReLU() : fonction d'activation\n",
    "- forward() : méthode qui définit la propagation avant, aplatit l'image"
   ]
  },
  {
   "cell_type": "code",
   "execution_count": 5,
   "id": "1388f7e3-a4ad-4689-89a5-7804e158a178",
   "metadata": {},
   "outputs": [],
   "source": [
    "class MNISTClassifier(nn.Module):\n",
    "    def __init__(self, input_size=784, hidden_size=128, num_classes=10):\n",
    "        super(MNISTClassifier, self).__init__()\n",
    "        self.model = nn.Sequential(\n",
    "            nn.Linear(input_size, hidden_size),\n",
    "            nn.ReLU(),\n",
    "            nn.Linear(hidden_size, num_classes)\n",
    "        )\n",
    "    \n",
    "    def forward(self, x):\n",
    "        # Aplatir l'image d'entrée\n",
    "        x = x.view(x.size(0), -1)\n",
    "        return self.model(x)"
   ]
  },
  {
   "cell_type": "markdown",
   "id": "ba42bfb5-5b50-4995-82d7-d108d1b54d8c",
   "metadata": {},
   "source": [
    "## Définition de la fonction d'entrainement\n",
    "\n",
    "Étapes de l'entraînement :\n",
    "\n",
    "- Parcourir les époques\n",
    "- Pour chaque lot de données :\n",
    "  - Réinitialiser les gradients\n",
    "  - Faire une prédiction (propagation avant)\n",
    "  - Calculer l'erreur\n",
    "  - Calculer les gradients (rétropropagation)\n",
    "  - Mettre à jour les poids du réseau"
   ]
  },
  {
   "cell_type": "code",
   "execution_count": 6,
   "id": "29a89ac8-4040-4799-88b6-8d7af115978d",
   "metadata": {},
   "outputs": [],
   "source": [
    "def train_model(model, train_loader, criterion, optimizer, num_epochs=5):\n",
    "    for epoch in range(num_epochs):\n",
    "        model.train()\n",
    "        total_loss = 0.0\n",
    "        \n",
    "        for batch_idx, (data, target) in enumerate(train_loader):\n",
    "            # Réinitialiser les gradients\n",
    "            optimizer.zero_grad()\n",
    "            \n",
    "            # Propagation avant\n",
    "            output = model(data)\n",
    "            \n",
    "            # Calcul de la perte\n",
    "            loss = criterion(output, target)\n",
    "            \n",
    "            # Rétropropagation\n",
    "            loss.backward()\n",
    "            \n",
    "            # Mise à jour des poids\n",
    "            optimizer.step()\n",
    "            \n",
    "            total_loss += loss.item()\n",
    "        \n",
    "        # Affichage des statistiques par époque\n",
    "        print(f'Epoch [{epoch+1}/{num_epochs}], Loss: {total_loss/len(train_loader):.4f}')"
   ]
  },
  {
   "cell_type": "markdown",
   "id": "ebaaabbd-c8fb-439f-89d1-60551ac51a9d",
   "metadata": {},
   "source": [
    "## Fonction d'Évaluation\n",
    "\n",
    "- Mode évaluation (`model.eval()`)\n",
    "- `with torch.no_grad()` : pas de calcul de gradient\n",
    "- Compter les prédictions correctes\n",
    "- Calculer la précision globale\n",
    "\n",
    "Fonction Principale"
   ]
  },
  {
   "cell_type": "code",
   "execution_count": 7,
   "id": "f5a533a2-bad7-4933-ab94-fb4c5f593336",
   "metadata": {},
   "outputs": [],
   "source": [
    "def evaluate_model(model, test_loader):\n",
    "    model.eval()\n",
    "    correct = 0\n",
    "    total = 0\n",
    "    \n",
    "    with torch.no_grad():\n",
    "        for data, target in test_loader:\n",
    "            output = model(data)\n",
    "            _, predicted = torch.max(output.data, 1)\n",
    "            \n",
    "            total += target.size(0)\n",
    "            correct += (predicted == target).sum().item()\n",
    "    \n",
    "    accuracy = 100 * correct / total\n",
    "    print(f'Test Accuracy: {accuracy:.2f}%')"
   ]
  },
  {
   "cell_type": "markdown",
   "id": "bd8edc1e-74c7-4a4b-9869-ba4a5821864a",
   "metadata": {},
   "source": [
    "## Fonctions de visualisation"
   ]
  },
  {
   "cell_type": "markdown",
   "id": "5d19f9d8-e155-4767-86e5-d06f8890ee28",
   "metadata": {},
   "source": [
    "### Visualisation des Datasets"
   ]
  },
  {
   "cell_type": "code",
   "execution_count": 8,
   "id": "5f3e46ad-c551-41eb-a50b-47556e8ed470",
   "metadata": {},
   "outputs": [],
   "source": [
    "import matplotlib.pyplot as plt\n",
    "import numpy as np\n",
    "\n",
    "def visualize_dataset(dataset, num_samples=10):\n",
    "    \"\"\"\n",
    "    Visualisation d'un échantillon aléatoire d'images du dataset\n",
    "    Montre l'image et son label\n",
    "    \"\"\"\n",
    "    plt.figure(figsize=(15, 3))\n",
    "    \n",
    "    # Sélectionner un échantillon aléatoire\n",
    "    indices = np.random.randint(0, len(dataset), num_samples)\n",
    "    \n",
    "    for i, idx in enumerate(indices):\n",
    "        image, label = dataset[idx]\n",
    "        \n",
    "        # Convertir le tenseur en image numpy\n",
    "        img = image.squeeze().numpy()\n",
    "        \n",
    "        plt.subplot(1, num_samples, i+1)\n",
    "        plt.imshow(img, cmap='gray')\n",
    "        plt.title(f'Label: {label}')\n",
    "        plt.axis('off')\n",
    "    \n",
    "    plt.tight_layout()\n",
    "    plt.show()"
   ]
  },
  {
   "cell_type": "markdown",
   "id": "847b4d6e-2504-4616-8f3b-8852f6f3e23c",
   "metadata": {},
   "source": [
    "### Distribution des classes"
   ]
  },
  {
   "cell_type": "code",
   "execution_count": 9,
   "id": "fd670a56-749e-419c-8e90-1e7ea2bd04e4",
   "metadata": {},
   "outputs": [],
   "source": [
    "def analyze_dataset_distribution(dataset):\n",
    "    \"\"\"\n",
    "    Crée un graphique à barres montrant la distribution des classes\n",
    "    Permet de vérifier l'équilibre du dataset\n",
    "    \"\"\"\n",
    "    labels = [label for _, label in dataset]\n",
    "    unique, counts = np.unique(labels, return_counts=True)\n",
    "    \n",
    "    plt.figure(figsize=(10, 5))\n",
    "    plt.bar(unique, counts)\n",
    "    plt.title('Distribution des Classes')\n",
    "    plt.xlabel('Classe')\n",
    "    plt.ylabel('Nombre d\\'échantillons')\n",
    "    plt.xticks(unique)\n",
    "    \n",
    "    # Afficher le nombre exact\n",
    "    for i, count in enumerate(counts):\n",
    "        plt.text(unique[i], count, str(count), ha='center', va='bottom')\n",
    "    \n",
    "    plt.show()"
   ]
  },
  {
   "cell_type": "markdown",
   "id": "001124c2-8bfb-4551-8ede-a883bb3b01fd",
   "metadata": {},
   "source": [
    "### Fonction d'analyse détaillée"
   ]
  },
  {
   "cell_type": "code",
   "execution_count": 10,
   "id": "f730e5ae-1397-4f9f-9dc7-206ddf048346",
   "metadata": {},
   "outputs": [],
   "source": [
    "def detailed_model_evaluation(model, test_loader):\n",
    "    \"\"\"\n",
    "    Évaluation détaillée avec matrice de confusion et exemples de prédictions\n",
    "    - Crée une matrice de confusion\n",
    "    - Visualise les images mal classées\n",
    "    - Montre où le modèle fait des erreurs\n",
    "    La matrice de confusion montre où le modèle confond des classes\n",
    "    Les images mal classées aident à comprendre les limites du modèle\n",
    "    \"\"\"\n",
    "    model.eval()\n",
    "    \n",
    "    # Matrices pour stocker les résultats\n",
    "    confusion_matrix = np.zeros((10, 10), dtype=int)\n",
    "    misclassified_images = []\n",
    "    \n",
    "    with torch.no_grad():\n",
    "        for data, target in test_loader:\n",
    "            output = model(data)\n",
    "            _, predicted = torch.max(output.data, 1)\n",
    "            \n",
    "            # Matrice de confusion\n",
    "            for t, p in zip(target, predicted):\n",
    "                confusion_matrix[t.item(), p.item()] += 1\n",
    "            \n",
    "            # Collecter les images mal classées\n",
    "            mask = predicted != target\n",
    "            for img, true_label, pred_label in zip(data[mask], target[mask], predicted[mask]):\n",
    "                misclassified_images.append((img, true_label.item(), pred_label.item()))\n",
    "    \n",
    "    # Visualiser la matrice de confusion\n",
    "    plt.figure(figsize=(10, 8))\n",
    "    plt.imshow(confusion_matrix, interpolation='nearest', cmap='Blues')\n",
    "    plt.title('Matrice de Confusion')\n",
    "    plt.colorbar()\n",
    "    plt.xlabel('Classe Prédite')\n",
    "    plt.ylabel('Classe Réelle')\n",
    "    \n",
    "    # Ajouter les valeurs dans la matrice\n",
    "    for i in range(10):\n",
    "        for j in range(10):\n",
    "            plt.text(j, i, str(confusion_matrix[i, j]), \n",
    "                     horizontalalignment=\"center\", \n",
    "                     verticalalignment=\"center\")\n",
    "    \n",
    "    plt.tight_layout()\n",
    "    plt.show()"
   ]
  },
  {
   "cell_type": "markdown",
   "id": "08f33a9b-cd88-4ace-bdee-e0ad15627198",
   "metadata": {},
   "source": [
    "# Utilisation du modèle"
   ]
  },
  {
   "cell_type": "markdown",
   "id": "61690a40-35ab-4600-ac3b-fa289d51bc90",
   "metadata": {},
   "source": [
    "## Chargement et préparation des données\n",
    "\n",
    "- Préparer les transformations de données\n",
    "    - `transforms.Normalize((0.1307,), (0.3081,))` : normalisation des images\n",
    "- Charger les datasets d'entraînement et de test\n",
    "    - `batch_size=64` : traiter 64 images à la fois\n",
    "- Créer des DataLoaders\n",
    "    - `root='./data'` : chemin pour stocker les données\n",
    "    - `transform=transform` : fonction de transformation des données (ici normalisation)\n",
    "    - `train=` : `True` pour les données d'entrainement, et `False` pour les données de test"
   ]
  },
  {
   "cell_type": "code",
   "execution_count": 12,
   "id": "72cf3eb2-32e8-4bfa-a939-6e812a2f46ea",
   "metadata": {},
   "outputs": [],
   "source": [
    "import torchvision\n",
    "import torchvision.transforms as transforms\n",
    "from torch.utils.data import DataLoader\n",
    "\n",
    "\n",
    "# Transformations des données\n",
    "transform = transforms.Compose([\n",
    "    transforms.ToTensor(),\n",
    "    transforms.Normalize((0.1307,), (0.3081,))\n",
    "])\n",
    "\n",
    "# Chargement des données\n",
    "train_dataset = torchvision.datasets.MNIST(\n",
    "    root='./data', \n",
    "    train=True, \n",
    "    download=True, \n",
    "    transform=transform\n",
    ")\n",
    "train_loader = DataLoader(train_dataset, batch_size=64, shuffle=True)\n",
    "\n",
    "# Chargement des données de test\n",
    "test_dataset = torchvision.datasets.MNIST(\n",
    "    root='./data', \n",
    "    train=False, \n",
    "    download=True, \n",
    "    transform=transform\n",
    ")\n",
    "\n",
    "# Préparation des loaders\n",
    "train_loader = DataLoader(train_dataset, batch_size=64, shuffle=True)\n",
    "test_loader = DataLoader(test_dataset, batch_size=64, shuffle=False)\n"
   ]
  },
  {
   "cell_type": "markdown",
   "id": "1d3ad732-fbb3-4e7e-8992-b6b03da132cb",
   "metadata": {},
   "source": [
    "## Visualisation des données"
   ]
  },
  {
   "cell_type": "markdown",
   "id": "42c759a1-c15a-4fef-8ea7-06a8bb7c4703",
   "metadata": {},
   "source": [
    "### Visualisation des échantillons d'entraînement "
   ]
  },
  {
   "cell_type": "code",
   "execution_count": 13,
   "id": "c45c2800-fdba-4571-994b-70f60089b94c",
   "metadata": {},
   "outputs": [
    {
     "data": {
      "image/png": "[encoded data removed]",
      "text/plain": [
       "<Figure size 1500x300 with 10 Axes>"
      ]
     },
     "metadata": {},
     "output_type": "display_data"
    }
   ],
   "source": [
    "visualize_dataset(train_dataset)"
   ]
  },
  {
   "cell_type": "markdown",
   "id": "ccf17c55-411c-44d9-bee5-3e4a2deeff88",
   "metadata": {},
   "source": [
    "### Visualisation des échantillons de test :"
   ]
  },
  {
   "cell_type": "code",
   "execution_count": 14,
   "id": "bae5245c-9f20-4e45-9dc1-c940e88712a8",
   "metadata": {},
   "outputs": [
    {
     "data": {
      "image/png": "[encoded data removed]",
      "text/plain": [
       "<Figure size 1500x300 with 10 Axes>"
      ]
     },
     "metadata": {},
     "output_type": "display_data"
    }
   ],
   "source": [
    "visualize_dataset(test_dataset)"
   ]
  },
  {
   "cell_type": "markdown",
   "id": "b64ff396-d1d2-49f0-b2eb-2c6865db8689",
   "metadata": {},
   "source": [
    "### Distribution des classes"
   ]
  },
  {
   "cell_type": "code",
   "execution_count": 15,
   "id": "f118382b-47be-4e0c-b2ed-3c40eb685b8a",
   "metadata": {},
   "outputs": [
    {
     "data": {
      "image/png": "[encoded data removed]",
      "text/plain": [
       "<Figure size 1000x500 with 1 Axes>"
      ]
     },
     "metadata": {},
     "output_type": "display_data"
    }
   ],
   "source": [
    "analyze_dataset_distribution(train_dataset)"
   ]
  },
  {
   "cell_type": "markdown",
   "id": "dcdd8987-1789-4371-b913-effea9025cfe",
   "metadata": {},
   "source": [
    "## Entrainement du modèle\n",
    "\n",
    "- Initialiser le modèle : appel de la classe `MNISTClassifier`\n",
    "- Définir la fonction de perte (Cross-Entropy)\n",
    "  - `nn.CrossEntropyLoss()` : adapté à la classification multiclasse\n",
    "- Choisir un optimiseur (Adam)\n",
    "  - `optim.Adam` :\n",
    "  - `lr=0.001` : taux d'apprentissage\n",
    "- Entraîner le modèle\n",
    "  \n",
    " \n",
    "  "
   ]
  },
  {
   "cell_type": "code",
   "execution_count": 22,
   "id": "23e6e1fe-b3cc-4cab-959c-08b1a035c635",
   "metadata": {},
   "outputs": [
    {
     "name": "stdout",
     "output_type": "stream",
     "text": [
      "Epoch [1/5], Loss: 0.2609\n",
      "Epoch [2/5], Loss: 0.1167\n",
      "Epoch [3/5], Loss: 0.0801\n",
      "Epoch [4/5], Loss: 0.0599\n",
      "Epoch [5/5], Loss: 0.0468\n"
     ]
    }
   ],
   "source": [
    "def training_example(model):\n",
    "  \"\"\"\n",
    "  Initialisation\n",
    "  Loss function\n",
    "  Training\n",
    "  \"\"\"\n",
    "  # Définition de la fonction de perte et de l'optimiseur\n",
    "  criterion = nn.CrossEntropyLoss()\n",
    "  optimizer = optim.Adam(model.parameters(), lr=0.001)\n",
    "\n",
    "  # Entraînement du modèle\n",
    "  train_model(model, train_loader, criterion, optimizer)\n",
    "\n",
    "# Initialisation du modèle\n",
    "model = MNISTClassifier()\n",
    "\n",
    "# Entrainement\n",
    "training_example(model)\n"
   ]
  },
  {
   "cell_type": "markdown",
   "id": "59737142-bc01-4c7f-89ac-5b039b733945",
   "metadata": {},
   "source": [
    "## Evaluation du modèle"
   ]
  },
  {
   "cell_type": "markdown",
   "id": "898995e4-b998-4e57-a35d-30befb18b428",
   "metadata": {},
   "source": [
    "### Précision du modèle\n",
    "\n",
    "Précision attendue autour de 95-97% \n"
   ]
  },
  {
   "cell_type": "code",
   "execution_count": 23,
   "id": "4965d726-b13c-4660-8b49-7fcee7a4c809",
   "metadata": {},
   "outputs": [
    {
     "name": "stdout",
     "output_type": "stream",
     "text": [
      "Test Accuracy: 97.58%\n"
     ]
    }
   ],
   "source": [
    "evaluate_model(model, test_loader)"
   ]
  },
  {
   "cell_type": "markdown",
   "id": "57bb911b-1ee9-4d60-910e-08508fc09ad8",
   "metadata": {},
   "source": [
    "### Analyse détaillée des performances "
   ]
  },
  {
   "cell_type": "code",
   "execution_count": 24,
   "id": "6aebadb9-8f7a-4613-8d65-1dd41343fe05",
   "metadata": {},
   "outputs": [
    {
     "data": {
      "image/png": "[encoded data removed]",
      "text/plain": [
       "<Figure size 1000x800 with 2 Axes>"
      ]
     },
     "metadata": {},
     "output_type": "display_data"
    }
   ],
   "source": [
    "confusion_mat = detailed_model_evaluation(model, test_loader)"
   ]
  },
  {
   "cell_type": "markdown",
   "id": "2f4a590d-eba5-4d41-8f7c-86b2a919b7a9",
   "metadata": {},
   "source": [
    "## Sauvegarde du modèle et inférence"
   ]
  },
  {
   "cell_type": "markdown",
   "id": "bf6da9d0-357f-4d23-90c0-48f02ef0937e",
   "metadata": {},
   "source": [
    "### Sauvegarde des Poids et paramètres du modèle\n",
    "\n",
    "- sauvegarde dans `mnist_classifier.pth` dans le répertoire courant\n",
    "- `state_dict()` ne sauvegarde que les poids et paramètres\n",
    "- Méthode recommandée car plus légère et flexible"
   ]
  },
  {
   "cell_type": "code",
   "execution_count": 25,
   "id": "e7fbda47-a4c4-4c6c-adbc-9b2966d24100",
   "metadata": {},
   "outputs": [],
   "source": [
    "def save_model(model, path='mnist_classifier.pth'):\n",
    "    # Sauvegarde des paramètres\n",
    "    torch.save(model.state_dict(), path)\n",
    "\n",
    "save_model(model)\n"
   ]
  },
  {
   "cell_type": "code",
   "execution_count": 26,
   "id": "c2b4c423-214b-47d8-bacf-0596e866ff40",
   "metadata": {},
   "outputs": [
    {
     "name": "stdout",
     "output_type": "stream",
     "text": [
      "mnist_classifier.pth\n"
     ]
    }
   ],
   "source": [
    "!ls *.pth"
   ]
  },
  {
   "cell_type": "markdown",
   "id": "d5a32534-a764-4720-89f7-16f2fd99c77d",
   "metadata": {},
   "source": [
    "## Chargement des poids et Inférence\n",
    "\n",
    "- Charge un batch de données de test\n",
    "- Fait des prédictions\n",
    "- Visualise les résultats avec les prédictions et les vraies étiquettes"
   ]
  },
  {
   "cell_type": "code",
   "execution_count": 29,
   "id": "bb7ea1f7-11f3-43f5-a5ad-7d093a6e3fb8",
   "metadata": {},
   "outputs": [],
   "source": [
    "def load_model(path='mnist_classifier.pth'):\n",
    "    \"\"\"\n",
    "    Crée une nouvelle instance du modèle avec la même architecture\n",
    "    - load_state_dict() charge les poids sauvegardés\n",
    "    - model.eval() passe le modèle en mode inference\n",
    "    \"\"\"\n",
    "    # Créer une instance du modèle\n",
    "    model = MNISTClassifier()\n",
    "    \n",
    "    # Charger les poids\n",
    "    model.load_state_dict(torch.load(path))\n",
    "    \n",
    "    # Mettre en mode évaluation\n",
    "    model.eval()\n",
    "    \n",
    "    return model\n",
    "\n",
    "def inference_example(model, test_dataset):\n",
    "    \"\"\"\n",
    "    Charge un batch de données de test\n",
    "    Fait des prédictions\n",
    "    Visualise les résultats avec les prédictions et les vraies étiquettes\n",
    "    \"\"\"\n",
    "    # Chargement des données\n",
    "    test_loader = DataLoader(test_dataset, batch_size=10, shuffle=True)\n",
    "    \n",
    "    with torch.no_grad():\n",
    "        # Faire des prédictions\n",
    "        images, labels = next(iter(test_loader))\n",
    "        outputs = model(images)\n",
    "        _, predicted = torch.max(outputs, 1)\n",
    "        \n",
    "        # Visualisation des résultats\n",
    "        plt.figure(figsize=(15, 3))\n",
    "        for i in range(10):\n",
    "            plt.subplot(1, 10, i+1)\n",
    "            plt.imshow(images[i].squeeze().numpy(), cmap='gray')\n",
    "            plt.title(f'Prédit: {predicted[i]}\\nRéel: {labels[i]}', fontsize=8)\n",
    "            plt.axis('off')\n",
    "        \n",
    "        plt.tight_layout()\n",
    "        plt.show()"
   ]
  },
  {
   "cell_type": "code",
   "execution_count": 30,
   "id": "428a631a-aa93-4b83-a1ad-fce325e2bce5",
   "metadata": {},
   "outputs": [
    {
     "data": {
      "image/png": "[encoded data removed]",
      "text/plain": [
       "<Figure size 1500x300 with 10 Axes>"
      ]
     },
     "metadata": {},
     "output_type": "display_data"
    }
   ],
   "source": [
    "# Chargement du modèle sauvegardé\n",
    "loaded_model = load_model()\n",
    "    \n",
    "# Exemple d'inférence\n",
    "inference_example(loaded_model, test_dataset)"
   ]
  },
  {
   "cell_type": "code",
   "execution_count": null,
   "id": "eb553e8d-bc35-4bba-b96f-ae7bcb98db9f",
   "metadata": {},
   "outputs": [],
   "source": []
  }
 ],
 "metadata": {
  "kernelspec": {
   "display_name": "Python 3 (ipykernel)",
   "language": "python",
   "name": "python3"
  },
  "language_info": {
   "codemirror_mode": {
    "name": "ipython",
    "version": 3
   },
   "file_extension": ".py",
   "mimetype": "text/x-python",
   "name": "python",
   "nbconvert_exporter": "python",
   "pygments_lexer": "ipython3",
   "version": "3.10.12"
  }
 },
 "nbformat": 4,
 "nbformat_minor": 5
}
