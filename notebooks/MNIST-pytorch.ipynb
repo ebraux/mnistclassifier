{
 "cells": [
  {
   "cell_type": "markdown",
   "id": "5dc947e8-be67-43ac-bea3-2eb7ab13c116",
   "metadata": {},
   "source": [
    "# MNIST-pytorch"
   ]
  },
  {
   "cell_type": "markdown",
   "id": "9c84537b-1deb-432e-a962-10254a623474",
   "metadata": {},
   "source": [
    "## Principe :\n",
    "\n",
    "Choix du Jeu de Données et du Modèle\n",
    "- problème de classification relativement simple :\n",
    "- Jeu de données MNIST (classification de chiffres manuscrits) et classification multiclasse (les 26 lettres)\n",
    "- Modèle de réseau de neurones convolutif (CNN) relativement simple"
   ]
  },
  {
   "cell_type": "markdown",
   "id": "8f7245ed-966f-4bf6-a16b-23719ac79ae6",
   "metadata": {},
   "source": [
    "## Architecture du Modèle\n",
    "\n",
    "Un réseau de neurones simple avec une couche cachée\n",
    "Utilise nn.Sequential pour définir l'architecture\n",
    "Transformation des images en vecteurs plats\n",
    "\n",
    "\n",
    "Fonctions Principales\n",
    "\n",
    "- train_model() : Gère l'entraînement sur plusieurs époques\n",
    "- evaluate_model() : Calcule la précision sur le jeu de test\n",
    "- main() : Orchestre le chargement des données, l'entraînement et l'évaluation\n",
    "\n",
    "\n",
    "Particularités\n",
    "\n",
    "- Utilisation de DataLoader pour le chargement des données\n",
    "- Normalisation des images\n",
    "- Sauvegarde du modèle entraîné\n",
    "\n",
    "Résultats Attendus\n",
    "\n",
    "- Précision autour de 95-97% sur MNIST\n",
    "- Temps d'entraînement court (quelques minutes)\n"
   ]
  },
  {
   "cell_type": "markdown",
   "id": "1c6df304-5d9a-4064-a691-d47df03c1595",
   "metadata": {},
   "source": [
    "## Installation des dépendances système"
   ]
  },
  {
   "cell_type": "code",
   "execution_count": 47,
   "id": "c31613a4-4e94-4faf-8448-4d087ab27136",
   "metadata": {},
   "outputs": [
    {
     "name": "stdout",
     "output_type": "stream",
     "text": [
      "Requirement already satisfied: torch in ./venv/lib/python3.10/site-packages (2.6.0)\n",
      "Requirement already satisfied: torchvision in ./venv/lib/python3.10/site-packages (0.21.0)\n",
      "Requirement already satisfied: matplotlib in ./venv/lib/python3.10/site-packages (3.10.0)\n",
      "Requirement already satisfied: nvidia-nvjitlink-cu12==12.4.127 in ./venv/lib/python3.10/site-packages (from torch) (12.4.127)\n",
      "Requirement already satisfied: networkx in ./venv/lib/python3.10/site-packages (from torch) (3.4.2)\n",
      "Requirement already satisfied: nvidia-cuda-nvrtc-cu12==12.4.127 in ./venv/lib/python3.10/site-packages (from torch) (12.4.127)\n",
      "Requirement already satisfied: nvidia-cufft-cu12==11.2.1.3 in ./venv/lib/python3.10/site-packages (from torch) (11.2.1.3)\n",
      "Requirement already satisfied: nvidia-cusolver-cu12==11.6.1.9 in ./venv/lib/python3.10/site-packages (from torch) (11.6.1.9)\n",
      "Requirement already satisfied: filelock in ./venv/lib/python3.10/site-packages (from torch) (3.17.0)\n",
      "Requirement already satisfied: jinja2 in ./venv/lib/python3.10/site-packages (from torch) (3.1.5)\n",
      "Requirement already satisfied: fsspec in ./venv/lib/python3.10/site-packages (from torch) (2025.2.0)\n",
      "Requirement already satisfied: sympy==1.13.1 in ./venv/lib/python3.10/site-packages (from torch) (1.13.1)\n",
      "Requirement already satisfied: nvidia-cusparse-cu12==12.3.1.170 in ./venv/lib/python3.10/site-packages (from torch) (12.3.1.170)\n",
      "Requirement already satisfied: nvidia-cublas-cu12==12.4.5.8 in ./venv/lib/python3.10/site-packages (from torch) (12.4.5.8)\n",
      "Requirement already satisfied: nvidia-curand-cu12==10.3.5.147 in ./venv/lib/python3.10/site-packages (from torch) (10.3.5.147)\n",
      "Requirement already satisfied: nvidia-cuda-runtime-cu12==12.4.127 in ./venv/lib/python3.10/site-packages (from torch) (12.4.127)\n",
      "Requirement already satisfied: nvidia-nccl-cu12==2.21.5 in ./venv/lib/python3.10/site-packages (from torch) (2.21.5)\n",
      "Requirement already satisfied: nvidia-cudnn-cu12==9.1.0.70 in ./venv/lib/python3.10/site-packages (from torch) (9.1.0.70)\n",
      "Requirement already satisfied: typing-extensions>=4.10.0 in ./venv/lib/python3.10/site-packages (from torch) (4.12.2)\n",
      "Requirement already satisfied: nvidia-cusparselt-cu12==0.6.2 in ./venv/lib/python3.10/site-packages (from torch) (0.6.2)\n",
      "Requirement already satisfied: nvidia-cuda-cupti-cu12==12.4.127 in ./venv/lib/python3.10/site-packages (from torch) (12.4.127)\n",
      "Requirement already satisfied: nvidia-nvtx-cu12==12.4.127 in ./venv/lib/python3.10/site-packages (from torch) (12.4.127)\n",
      "Requirement already satisfied: triton==3.2.0 in ./venv/lib/python3.10/site-packages (from torch) (3.2.0)\n",
      "Requirement already satisfied: mpmath<1.4,>=1.1.0 in ./venv/lib/python3.10/site-packages (from sympy==1.13.1->torch) (1.3.0)\n",
      "Requirement already satisfied: pillow!=8.3.*,>=5.3.0 in ./venv/lib/python3.10/site-packages (from torchvision) (11.1.0)\n",
      "Requirement already satisfied: numpy in ./venv/lib/python3.10/site-packages (from torchvision) (2.2.2)\n",
      "Requirement already satisfied: cycler>=0.10 in ./venv/lib/python3.10/site-packages (from matplotlib) (0.12.1)\n",
      "Requirement already satisfied: contourpy>=1.0.1 in ./venv/lib/python3.10/site-packages (from matplotlib) (1.3.1)\n",
      "Requirement already satisfied: packaging>=20.0 in ./venv/lib/python3.10/site-packages (from matplotlib) (24.2)\n",
      "Requirement already satisfied: fonttools>=4.22.0 in ./venv/lib/python3.10/site-packages (from matplotlib) (4.55.8)\n",
      "Requirement already satisfied: python-dateutil>=2.7 in ./venv/lib/python3.10/site-packages (from matplotlib) (2.9.0.post0)\n",
      "Requirement already satisfied: kiwisolver>=1.3.1 in ./venv/lib/python3.10/site-packages (from matplotlib) (1.4.8)\n",
      "Requirement already satisfied: pyparsing>=2.3.1 in ./venv/lib/python3.10/site-packages (from matplotlib) (3.2.1)\n",
      "Requirement already satisfied: six>=1.5 in ./venv/lib/python3.10/site-packages (from python-dateutil>=2.7->matplotlib) (1.17.0)\n",
      "Requirement already satisfied: MarkupSafe>=2.0 in ./venv/lib/python3.10/site-packages (from jinja2->torch) (3.0.2)\n"
     ]
    }
   ],
   "source": [
    "!pip install torch torchvision matplotlib"
   ]
  },
  {
   "cell_type": "markdown",
   "id": "6e04fd70-714d-4adb-a509-e37abb82b437",
   "metadata": {},
   "source": [
    "## Classe du modèle : MNISTClassifier"
   ]
  },
  {
   "cell_type": "markdown",
   "id": "c3e96a8f-f381-4d7b-89b2-bc092e00b968",
   "metadata": {},
   "source": [
    "## Définition du Modèle\n",
    "\n",
    "### Import des librairies Permettant de :\n",
    "- Utiliser les fonctionnalités de base de PyTorch\n",
    "- Importer des modules pour les réseaux de neurones\n",
    "- Charger des jeux de données (MNIST)\n",
    "- Faire des transformations sur les données\n",
    "- Créer des chargeurs de données\n",
    "\n",
    "\n",
    "### Définition l'architecture du réseau de neurones : `__init__`\n",
    "- input_size=784 (28x28 pixels aplatis)\n",
    "- hidden_size=128 : couche cachée de 128 neurones\n",
    "- num_classes=10 : 10 classes pour les chiffres de 0 à 9\n",
    "- learning_rate=0.001\n",
    "- Utilise un GPU si disponible\n",
    "\n",
    "- nn.Sequential crée un empilement de couches\n",
    "- nn.Linear : couches de neurones\n",
    "- nn.ReLU() : fonction d'activation\n",
    "- forward() : méthode qui définit la propagation avant, aplatit l'image\n",
    "\n",
    "\n",
    "### La définition de la fonction d'entrainement : `train_model`\n",
    "\n",
    "Étapes de l'entraînement :\n",
    "\n",
    "- Parcourir les époques\n",
    "- Pour chaque lot de données :\n",
    "  - Réinitialiser les gradients\n",
    "  - Faire une prédiction (propagation avant)\n",
    "  - Calculer l'erreur\n",
    "  - Calculer les gradients (rétropropagation)\n",
    "  - Mettre à jour les poids du réseau\n",
    "- Le modèle garde son état (optimizer, criterion, device)\n",
    "  \n",
    "### Fonction d'Évaluation : `evaluate_model`\n",
    "\n",
    "- Mode évaluation (`model.eval()`)\n",
    "- `with torch.no_grad()` : pas de calcul de gradient\n",
    "- Compter les prédictions correctes\n",
    "- Calculer la précision globale\n",
    "\n",
    "    def save_model(self, path='mnist_classifier.pth'):\n",
    "        \"\"\"\n",
    "### Fonction  de Sauvegarde les poids du modèle :  `save_model`\n",
    "\n",
    "### Fonction  de Chargement les poids du modèle : `load_state_dict`\n",
    "\n",
    "### Fonction  de Faire une prédiction sur de nouvelles données : `predict`\n",
    "    "
   ]
  },
  {
   "cell_type": "code",
   "execution_count": 50,
   "id": "1388f7e3-a4ad-4689-89a5-7804e158a178",
   "metadata": {},
   "outputs": [],
   "source": [
    "import torch\n",
    "import torch.nn as nn\n",
    "import torch.optim as optim\n",
    "\n",
    "\n",
    "\n",
    "class MNISTClassifier(nn.Module):\n",
    "    def __init__(self, input_size=784, hidden_size=128, num_classes=10, learning_rate=0.001):\n",
    "        super(MNISTClassifier, self).__init__()\n",
    "        self.model = nn.Sequential(\n",
    "            nn.Linear(input_size, hidden_size),\n",
    "            nn.ReLU(),\n",
    "            nn.Linear(hidden_size, num_classes)\n",
    "        )\n",
    "        \n",
    "        # Initialisation des composants d'entraînement\n",
    "        self.criterion = nn.CrossEntropyLoss()\n",
    "        self.optimizer = optim.Adam(self.parameters(), lr=learning_rate)\n",
    "        self.device = torch.device('cuda' if torch.cuda.is_available() else 'cpu')\n",
    "        self.to(self.device)  # Déplacer le modèle sur GPU si disponible\n",
    "\n",
    "\n",
    "    def forward(self, x):\n",
    "        x = x.view(x.size(0), -1)\n",
    "        return self.model(x)\n",
    "\n",
    "    def train_model(self, train_loader, num_epochs=5):\n",
    "        \"\"\"\n",
    "        Méthode d'entraînement du modèle\n",
    "        \"\"\"\n",
    "        self.train()  # Mettre le modèle en mode entraînement\n",
    "        train_losses = []\n",
    "\n",
    "        \n",
    "        for epoch in range(num_epochs):\n",
    "            total_loss = 0.0\n",
    "            correct = 0\n",
    "            total = 0\n",
    "            \n",
    "            for batch_idx, (data, target) in enumerate(train_loader):\n",
    "                # Déplacer les données sur le même device que le modèle\n",
    "                data, target = data.to(self.device), target.to(self.device)\n",
    "                \n",
    "                # Réinitialiser les gradients\n",
    "                self.optimizer.zero_grad()\n",
    "                \n",
    "                # Propagation avant\n",
    "                output = self(data)\n",
    "                \n",
    "                # Calcul de la perte\n",
    "                loss = self.criterion(output, target)\n",
    "                \n",
    "                # Rétropropagation\n",
    "                loss.backward()\n",
    "                \n",
    "                # Mise à jour des poids\n",
    "                self.optimizer.step()\n",
    "                \n",
    "                # Statistiques\n",
    "                total_loss += loss.item()\n",
    "                _, predicted = torch.max(output.data, 1)\n",
    "                total += target.size(0)\n",
    "                correct += (predicted == target).sum().item()\n",
    "                \n",
    "                # Affichage de la progression\n",
    "                if batch_idx % 100 == 0:\n",
    "                    print(f'Epoch [{epoch+1}/{num_epochs}], '\n",
    "                          f'Step [{batch_idx}/{len(train_loader)}], '\n",
    "                          f'Loss: {loss.item():.4f}')\n",
    "            \n",
    "            # Statistiques de l'époque\n",
    "            epoch_loss = total_loss / len(train_loader)\n",
    "            epoch_acc = 100 * correct / total\n",
    "            train_losses.append(epoch_loss)\n",
    "            \n",
    "            print(f'Epoch [{epoch+1}/{num_epochs}], '\n",
    "                  f'Loss: {epoch_loss:.4f}, '\n",
    "                  f'Accuracy: {epoch_acc:.2f}%')\n",
    "                  \n",
    "        \n",
    "        return train_losses\n",
    "\n",
    "    def evaluate_model(self, test_loader):\n",
    "        \"\"\"\n",
    "        Méthode d'évaluation du modèle\n",
    "        \"\"\"\n",
    "        self.eval()  # Mettre le modèle en mode évaluation\n",
    "        correct = 0\n",
    "        total = 0\n",
    "        predictions = []\n",
    "        true_labels = []\n",
    "        \n",
    "        with torch.no_grad():\n",
    "            for data, target in test_loader:\n",
    "                data, target = data.to(self.device), target.to(self.device)\n",
    "                output = self(data)\n",
    "                _, predicted = torch.max(output.data, 1)\n",
    "                \n",
    "                total += target.size(0)\n",
    "                correct += (predicted == target).sum().item()\n",
    "                \n",
    "                predictions.extend(predicted.cpu().numpy())\n",
    "                true_labels.extend(target.cpu().numpy())\n",
    "        \n",
    "        accuracy = 100 * correct / total\n",
    "        print(f'Test Accuracy: {accuracy:.2f}%')\n",
    "        \n",
    "        return accuracy, predictions, true_labels\n",
    "\n",
    "    def save_model(self, path='mnist_classifier.pth'):\n",
    "        \"\"\"\n",
    "        Sauvegarder les poids du modèle\n",
    "        \"\"\"\n",
    "        torch.save(self.state_dict(), path)\n",
    "        print(f\"Modèle sauvegardé dans {path}\")\n",
    "    \n",
    "    def load_model(self, path='mnist_classifier.pth'):\n",
    "        \"\"\"\n",
    "        Charger les poids du modèle\n",
    "        \"\"\"\n",
    "        self.load_state_dict(torch.load(path))\n",
    "        self.eval()\n",
    "        print(f\"Modèle chargé depuis {path}\")\n",
    "    \n",
    "    def predict(self, x):\n",
    "        \"\"\"\n",
    "        Faire une prédiction sur de nouvelles données\n",
    "        \"\"\"\n",
    "        # Mettre en mode évaluation\n",
    "        self.eval()\n",
    "        with torch.no_grad():\n",
    "            x = x.to(self.device)\n",
    "            output = self(x)\n",
    "            _, predicted = torch.max(output.data, 1)\n",
    "            return predicted        "
   ]
  },
  {
   "cell_type": "markdown",
   "id": "bd8edc1e-74c7-4a4b-9869-ba4a5821864a",
   "metadata": {},
   "source": [
    "## Fonctions de visualisation"
   ]
  },
  {
   "cell_type": "markdown",
   "id": "5d19f9d8-e155-4767-86e5-d06f8890ee28",
   "metadata": {},
   "source": [
    "### Visualisation des Datasets"
   ]
  },
  {
   "cell_type": "code",
   "execution_count": 51,
   "id": "5f3e46ad-c551-41eb-a50b-47556e8ed470",
   "metadata": {},
   "outputs": [],
   "source": [
    "import matplotlib.pyplot as plt\n",
    "import numpy as np\n",
    "\n",
    "def visualize_dataset(dataset, num_samples=10):\n",
    "    \"\"\"\n",
    "    Visualisation d'un échantillon aléatoire d'images du dataset\n",
    "    Montre l'image et son label\n",
    "    \"\"\"\n",
    "    plt.figure(figsize=(15, 3))\n",
    "    \n",
    "    # Sélectionner un échantillon aléatoire\n",
    "    indices = np.random.randint(0, len(dataset), num_samples)\n",
    "    \n",
    "    for i, idx in enumerate(indices):\n",
    "        image, label = dataset[idx]\n",
    "        \n",
    "        # Convertir le tenseur en image numpy\n",
    "        img = image.squeeze().numpy()\n",
    "        \n",
    "        plt.subplot(1, num_samples, i+1)\n",
    "        plt.imshow(img, cmap='gray')\n",
    "        plt.title(f'Label: {label}')\n",
    "        plt.axis('off')\n",
    "    \n",
    "    plt.tight_layout()\n",
    "    plt.show()"
   ]
  },
  {
   "cell_type": "markdown",
   "id": "847b4d6e-2504-4616-8f3b-8852f6f3e23c",
   "metadata": {},
   "source": [
    "### Distribution des classes"
   ]
  },
  {
   "cell_type": "code",
   "execution_count": 52,
   "id": "fd670a56-749e-419c-8e90-1e7ea2bd04e4",
   "metadata": {},
   "outputs": [],
   "source": [
    "def analyze_dataset_distribution(dataset):\n",
    "    \"\"\"\n",
    "    Crée un graphique à barres montrant la distribution des classes\n",
    "    Permet de vérifier l'équilibre du dataset\n",
    "    \"\"\"\n",
    "    labels = [label for _, label in dataset]\n",
    "    unique, counts = np.unique(labels, return_counts=True)\n",
    "    \n",
    "    plt.figure(figsize=(10, 5))\n",
    "    plt.bar(unique, counts)\n",
    "    plt.title('Distribution des Classes')\n",
    "    plt.xlabel('Classe')\n",
    "    plt.ylabel('Nombre d\\'échantillons')\n",
    "    plt.xticks(unique)\n",
    "    \n",
    "    # Afficher le nombre exact\n",
    "    for i, count in enumerate(counts):\n",
    "        plt.text(unique[i], count, str(count), ha='center', va='bottom')\n",
    "    \n",
    "    plt.show()"
   ]
  },
  {
   "cell_type": "markdown",
   "id": "001124c2-8bfb-4551-8ede-a883bb3b01fd",
   "metadata": {},
   "source": [
    "### Fonction d'analyse détaillée"
   ]
  },
  {
   "cell_type": "code",
   "execution_count": 53,
   "id": "f730e5ae-1397-4f9f-9dc7-206ddf048346",
   "metadata": {},
   "outputs": [],
   "source": [
    "def detailed_model_evaluation(model, test_loader):\n",
    "    \"\"\"\n",
    "    Évaluation détaillée avec matrice de confusion et exemples de prédictions\n",
    "    - Crée une matrice de confusion\n",
    "    - Visualise les images mal classées\n",
    "    - Montre où le modèle fait des erreurs\n",
    "    La matrice de confusion montre où le modèle confond des classes\n",
    "    Les images mal classées aident à comprendre les limites du modèle\n",
    "    \"\"\"\n",
    "    model.eval()\n",
    "    \n",
    "    # Matrices pour stocker les résultats\n",
    "    confusion_matrix = np.zeros((10, 10), dtype=int)\n",
    "    misclassified_images = []\n",
    "    \n",
    "    with torch.no_grad():\n",
    "        for data, target in test_loader:\n",
    "            output = model(data)\n",
    "            _, predicted = torch.max(output.data, 1)\n",
    "            \n",
    "            # Matrice de confusion\n",
    "            for t, p in zip(target, predicted):\n",
    "                confusion_matrix[t.item(), p.item()] += 1\n",
    "            \n",
    "            # Collecter les images mal classées\n",
    "            mask = predicted != target\n",
    "            for img, true_label, pred_label in zip(data[mask], target[mask], predicted[mask]):\n",
    "                misclassified_images.append((img, true_label.item(), pred_label.item()))\n",
    "    \n",
    "    # Visualiser la matrice de confusion\n",
    "    plt.figure(figsize=(10, 8))\n",
    "    plt.imshow(confusion_matrix, interpolation='nearest', cmap='Blues')\n",
    "    plt.title('Matrice de Confusion')\n",
    "    plt.colorbar()\n",
    "    plt.xlabel('Classe Prédite')\n",
    "    plt.ylabel('Classe Réelle')\n",
    "    \n",
    "    # Ajouter les valeurs dans la matrice\n",
    "    for i in range(10):\n",
    "        for j in range(10):\n",
    "            plt.text(j, i, str(confusion_matrix[i, j]), \n",
    "                     horizontalalignment=\"center\", \n",
    "                     verticalalignment=\"center\")\n",
    "    \n",
    "    plt.tight_layout()\n",
    "    plt.show()"
   ]
  },
  {
   "cell_type": "markdown",
   "id": "8f31e084-0ce7-45b3-b4bd-67d37a334126",
   "metadata": {},
   "source": [
    "### Courbe d'apprentissage"
   ]
  },
  {
   "cell_type": "code",
   "execution_count": 54,
   "id": "190822b6-81a4-4181-9b63-dbebf8d5f163",
   "metadata": {},
   "outputs": [],
   "source": [
    "def plot_learning_curve(train_losses, val_losses=None, title='Learning Curve'):\n",
    "    \"\"\"\n",
    "    Visualise la courbe d'apprentissage pour un modèle PyTorch.\n",
    "    \n",
    "    Args:\n",
    "        train_losses (list): Liste des pertes d'entraînement pour chaque époque\n",
    "        val_losses (list, optional): Liste des pertes de validation pour chaque époque\n",
    "        title (str, optional): Titre du graphique\n",
    "    \"\"\"\n",
    "    plt.figure(figsize=(10, 6))\n",
    "    plt.plot(train_losses, label='Perte d\\'entraînement', color='blue')\n",
    "    \n",
    "    if val_losses is not None:\n",
    "        plt.plot(val_losses, label='Perte de validation', color='red')\n",
    "    \n",
    "    plt.title(title)\n",
    "    plt.xlabel('Époque')\n",
    "    plt.ylabel('Perte')\n",
    "    plt.legend()\n",
    "    plt.grid(True)\n",
    "    plt.show()"
   ]
  },
  {
   "cell_type": "markdown",
   "id": "08f33a9b-cd88-4ace-bdee-e0ad15627198",
   "metadata": {},
   "source": [
    "# Utilisation du modèle"
   ]
  },
  {
   "cell_type": "markdown",
   "id": "61690a40-35ab-4600-ac3b-fa289d51bc90",
   "metadata": {},
   "source": [
    "## Chargement et préparation des données\n",
    "\n",
    "- Préparer les transformations de données\n",
    "    - `transforms.Normalize((0.1307,), (0.3081,))` : normalisation des images\n",
    "- Charger les datasets d'entraînement et de test\n",
    "    - `batch_size=64` : traiter 64 images à la fois\n",
    "- Créer des DataLoaders\n",
    "    - `root='./data'` : chemin pour stocker les données\n",
    "    - `transform=transform` : fonction de transformation des données (ici normalisation)\n",
    "    - `train=` : `True` pour les données d'entrainement, et `False` pour les données de test"
   ]
  },
  {
   "cell_type": "code",
   "execution_count": 55,
   "id": "72cf3eb2-32e8-4bfa-a939-6e812a2f46ea",
   "metadata": {},
   "outputs": [],
   "source": [
    "import torchvision\n",
    "import torchvision.transforms as transforms\n",
    "from torch.utils.data import DataLoader\n",
    "\n",
    "\n",
    "# Transformations des données\n",
    "transform = transforms.Compose([\n",
    "    transforms.ToTensor(),\n",
    "    transforms.Normalize((0.1307,), (0.3081,))\n",
    "])\n",
    "\n",
    "# Chargement des données\n",
    "train_dataset = torchvision.datasets.MNIST(\n",
    "    root='./data', \n",
    "    train=True, \n",
    "    download=True, \n",
    "    transform=transform\n",
    ")\n",
    "train_loader = DataLoader(train_dataset, batch_size=64, shuffle=True)\n",
    "\n",
    "# Chargement des données de test\n",
    "test_dataset = torchvision.datasets.MNIST(\n",
    "    root='./data', \n",
    "    train=False, \n",
    "    download=True, \n",
    "    transform=transform\n",
    ")\n",
    "\n",
    "# Préparation des loaders\n",
    "train_loader = DataLoader(train_dataset, batch_size=64, shuffle=True)\n",
    "test_loader = DataLoader(test_dataset, batch_size=64, shuffle=False)\n"
   ]
  },
  {
   "cell_type": "markdown",
   "id": "1d3ad732-fbb3-4e7e-8992-b6b03da132cb",
   "metadata": {},
   "source": [
    "## Visualisation des données"
   ]
  },
  {
   "cell_type": "markdown",
   "id": "42c759a1-c15a-4fef-8ea7-06a8bb7c4703",
   "metadata": {},
   "source": [
    "### Visualisation des échantillons d'entraînement "
   ]
  },
  {
   "cell_type": "code",
   "execution_count": 56,
   "id": "c45c2800-fdba-4571-994b-70f60089b94c",
   "metadata": {},
   "outputs": [
    {
     "data": {
      "image/png": "[encoded data removed]",
      "text/plain": [
       "<Figure size 1500x300 with 10 Axes>"
      ]
     },
     "metadata": {},
     "output_type": "display_data"
    }
   ],
   "source": [
    "visualize_dataset(train_dataset)"
   ]
  },
  {
   "cell_type": "markdown",
   "id": "ccf17c55-411c-44d9-bee5-3e4a2deeff88",
   "metadata": {},
   "source": [
    "### Visualisation des échantillons de test :"
   ]
  },
  {
   "cell_type": "code",
   "execution_count": 57,
   "id": "bae5245c-9f20-4e45-9dc1-c940e88712a8",
   "metadata": {},
   "outputs": [
    {
     "data": {
      "image/png": "[encoded data removed]",
      "text/plain": [
       "<Figure size 1500x300 with 10 Axes>"
      ]
     },
     "metadata": {},
     "output_type": "display_data"
    }
   ],
   "source": [
    "visualize_dataset(test_dataset)"
   ]
  },
  {
   "cell_type": "markdown",
   "id": "b64ff396-d1d2-49f0-b2eb-2c6865db8689",
   "metadata": {},
   "source": [
    "### Distribution des classes"
   ]
  },
  {
   "cell_type": "code",
   "execution_count": 58,
   "id": "f118382b-47be-4e0c-b2ed-3c40eb685b8a",
   "metadata": {},
   "outputs": [
    {
     "data": {
      "image/png": "[encoded data removed]",
      "text/plain": [
       "<Figure size 1000x500 with 1 Axes>"
      ]
     },
     "metadata": {},
     "output_type": "display_data"
    }
   ],
   "source": [
    "analyze_dataset_distribution(train_dataset)"
   ]
  },
  {
   "cell_type": "markdown",
   "id": "dcdd8987-1789-4371-b913-effea9025cfe",
   "metadata": {},
   "source": [
    "## Entrainement du modèle\n",
    "\n",
    "- Initialiser le modèle : appel de la classe `MNISTClassifier`\n",
    "- Définir la fonction de perte (Cross-Entropy)\n",
    "  - `nn.CrossEntropyLoss()` : adapté à la classification multiclasse\n",
    "- Choisir un optimiseur (Adam)\n",
    "  - `optim.Adam` :\n",
    "  - `lr=0.001` : taux d'apprentissage\n",
    "- Entraîner le modèle\n",
    "  \n",
    " \n",
    "  "
   ]
  },
  {
   "cell_type": "code",
   "execution_count": 59,
   "id": "23e6e1fe-b3cc-4cab-959c-08b1a035c635",
   "metadata": {},
   "outputs": [
    {
     "name": "stdout",
     "output_type": "stream",
     "text": [
      "Epoch [1/5], Step [0/938], Loss: 2.3953\n",
      "Epoch [1/5], Step [100/938], Loss: 0.5252\n",
      "Epoch [1/5], Step [200/938], Loss: 0.2940\n",
      "Epoch [1/5], Step [300/938], Loss: 0.2881\n",
      "Epoch [1/5], Step [400/938], Loss: 0.1736\n",
      "Epoch [1/5], Step [500/938], Loss: 0.1223\n",
      "Epoch [1/5], Step [600/938], Loss: 0.0949\n",
      "Epoch [1/5], Step [700/938], Loss: 0.0437\n",
      "Epoch [1/5], Step [800/938], Loss: 0.1674\n",
      "Epoch [1/5], Step [900/938], Loss: 0.0960\n",
      "Epoch [1/5], Loss: 0.2500, Accuracy: 92.73%\n",
      "Epoch [2/5], Step [0/938], Loss: 0.0748\n",
      "Epoch [2/5], Step [100/938], Loss: 0.2010\n",
      "Epoch [2/5], Step [200/938], Loss: 0.0895\n",
      "Epoch [2/5], Step [300/938], Loss: 0.1122\n",
      "Epoch [2/5], Step [400/938], Loss: 0.0709\n",
      "Epoch [2/5], Step [500/938], Loss: 0.0752\n",
      "Epoch [2/5], Step [600/938], Loss: 0.2024\n",
      "Epoch [2/5], Step [700/938], Loss: 0.0579\n",
      "Epoch [2/5], Step [800/938], Loss: 0.2064\n",
      "Epoch [2/5], Step [900/938], Loss: 0.1602\n",
      "Epoch [2/5], Loss: 0.1094, Accuracy: 96.77%\n",
      "Epoch [3/5], Step [0/938], Loss: 0.0996\n",
      "Epoch [3/5], Step [100/938], Loss: 0.0551\n",
      "Epoch [3/5], Step [200/938], Loss: 0.0423\n",
      "Epoch [3/5], Step [300/938], Loss: 0.1277\n",
      "Epoch [3/5], Step [400/938], Loss: 0.0343\n",
      "Epoch [3/5], Step [500/938], Loss: 0.0274\n",
      "Epoch [3/5], Step [600/938], Loss: 0.0416\n",
      "Epoch [3/5], Step [700/938], Loss: 0.0591\n",
      "Epoch [3/5], Step [800/938], Loss: 0.0384\n",
      "Epoch [3/5], Step [900/938], Loss: 0.0626\n",
      "Epoch [3/5], Loss: 0.0775, Accuracy: 97.60%\n",
      "Epoch [4/5], Step [0/938], Loss: 0.0439\n",
      "Epoch [4/5], Step [100/938], Loss: 0.0150\n",
      "Epoch [4/5], Step [200/938], Loss: 0.0311\n",
      "Epoch [4/5], Step [300/938], Loss: 0.0942\n",
      "Epoch [4/5], Step [400/938], Loss: 0.0100\n",
      "Epoch [4/5], Step [500/938], Loss: 0.0150\n",
      "Epoch [4/5], Step [600/938], Loss: 0.0664\n",
      "Epoch [4/5], Step [700/938], Loss: 0.0191\n",
      "Epoch [4/5], Step [800/938], Loss: 0.0429\n",
      "Epoch [4/5], Step [900/938], Loss: 0.0333\n",
      "Epoch [4/5], Loss: 0.0593, Accuracy: 98.20%\n",
      "Epoch [5/5], Step [0/938], Loss: 0.0351\n",
      "Epoch [5/5], Step [100/938], Loss: 0.0061\n",
      "Epoch [5/5], Step [200/938], Loss: 0.0271\n",
      "Epoch [5/5], Step [300/938], Loss: 0.0128\n",
      "Epoch [5/5], Step [400/938], Loss: 0.0331\n",
      "Epoch [5/5], Step [500/938], Loss: 0.0079\n",
      "Epoch [5/5], Step [600/938], Loss: 0.0354\n",
      "Epoch [5/5], Step [700/938], Loss: 0.0184\n",
      "Epoch [5/5], Step [800/938], Loss: 0.1099\n",
      "Epoch [5/5], Step [900/938], Loss: 0.0190\n",
      "Epoch [5/5], Loss: 0.0463, Accuracy: 98.59%\n"
     ]
    }
   ],
   "source": [
    "# Créer et entraîner le modèle\n",
    "model = MNISTClassifier()\n",
    "    \n",
    "# Entraînement\n",
    "train_losses = model.train_model(train_loader)\n"
   ]
  },
  {
   "cell_type": "code",
   "execution_count": 60,
   "id": "146d2425-da28-41bb-8ca9-efe7a9b44601",
   "metadata": {},
   "outputs": [],
   "source": [
    " #plot_learning_curve(train_losses, val_losses)"
   ]
  },
  {
   "cell_type": "markdown",
   "id": "59737142-bc01-4c7f-89ac-5b039b733945",
   "metadata": {},
   "source": [
    "## Evaluation du modèle"
   ]
  },
  {
   "cell_type": "markdown",
   "id": "898995e4-b998-4e57-a35d-30befb18b428",
   "metadata": {},
   "source": [
    "### Précision du modèle\n",
    "\n",
    "Précision attendue autour de 95-97% \n"
   ]
  },
  {
   "cell_type": "code",
   "execution_count": 62,
   "id": "4965d726-b13c-4660-8b49-7fcee7a4c809",
   "metadata": {},
   "outputs": [
    {
     "name": "stdout",
     "output_type": "stream",
     "text": [
      "Test Accuracy: 97.71%\n"
     ]
    }
   ],
   "source": [
    "accuracy, predictions, true_labels = model.evaluate_model(test_loader)"
   ]
  },
  {
   "cell_type": "markdown",
   "id": "57bb911b-1ee9-4d60-910e-08508fc09ad8",
   "metadata": {},
   "source": [
    "### Analyse détaillée des performances "
   ]
  },
  {
   "cell_type": "code",
   "execution_count": 63,
   "id": "6aebadb9-8f7a-4613-8d65-1dd41343fe05",
   "metadata": {},
   "outputs": [
    {
     "data": {
      "image/png": "[encoded data removed]",
      "text/plain": [
       "<Figure size 1000x800 with 2 Axes>"
      ]
     },
     "metadata": {},
     "output_type": "display_data"
    }
   ],
   "source": [
    "confusion_mat = detailed_model_evaluation(model, test_loader)"
   ]
  },
  {
   "cell_type": "markdown",
   "id": "2f4a590d-eba5-4d41-8f7c-86b2a919b7a9",
   "metadata": {},
   "source": [
    "## Sauvegarde du modèle"
   ]
  },
  {
   "cell_type": "markdown",
   "id": "bf6da9d0-357f-4d23-90c0-48f02ef0937e",
   "metadata": {},
   "source": [
    "### Sauvegarde des Poids et paramètres du modèle\n",
    "\n",
    "- sauvegarde dans `mnist_classifier.pth` dans le répertoire courant\n",
    "- `state_dict()` ne sauvegarde que les poids et paramètres\n",
    "- Méthode recommandée car plus légère et flexible"
   ]
  },
  {
   "cell_type": "code",
   "execution_count": 64,
   "id": "e7fbda47-a4c4-4c6c-adbc-9b2966d24100",
   "metadata": {},
   "outputs": [
    {
     "name": "stdout",
     "output_type": "stream",
     "text": [
      "Modèle sauvegardé dans mnist_classifier.pth\n"
     ]
    }
   ],
   "source": [
    "# Sauvegarde des paramètres\n",
    "model.save_model()"
   ]
  },
  {
   "cell_type": "code",
   "execution_count": 65,
   "id": "c2b4c423-214b-47d8-bacf-0596e866ff40",
   "metadata": {},
   "outputs": [
    {
     "name": "stdout",
     "output_type": "stream",
     "text": [
      "-rw-r--r-- 1 ebraux mee-perm 409304 févr.  4 15:09 mnist_classifier.pth\n"
     ]
    }
   ],
   "source": [
    "!ls -l *.pth"
   ]
  },
  {
   "cell_type": "markdown",
   "id": "4145aa98-12f0-4b74-99a8-c69571d5bfb1",
   "metadata": {},
   "source": [
    "## Prédictions\n",
    "\n",
    "Initiliasation du modèle avec des poids provenant d'un entrainement\n",
    "\n",
    "- `demo_prediction` : \n",
    "    - Charge un batch de données de test\n",
    "    - Réalise des prédictions\n",
    "    - Visualise les résultats avec les prédictions et les vraies étiquettes\n",
    "- `demo_individual_prediction` :\n",
    "    - Charge une image, avec possibilité de choisir son index\n",
    "    - Réalise la prédictions"
   ]
  },
  {
   "cell_type": "markdown",
   "id": "12c5c82c-99b8-4055-b195-a4813006dc83",
   "metadata": {},
   "source": [
    "### Fonctions de prédiction"
   ]
  },
  {
   "cell_type": "code",
   "execution_count": 66,
   "id": "d62c63ad-d7eb-4184-9abd-3ff9fbe4aac1",
   "metadata": {},
   "outputs": [],
   "source": [
    "import torch\n",
    "import torchvision\n",
    "import torchvision.transforms as transforms\n",
    "from torch.utils.data import DataLoader\n",
    "import matplotlib.pyplot as plt\n",
    "\n",
    " \n",
    "def demo_prediction(model):\n",
    "    # Configuration\n",
    "    transform = transforms.Compose([\n",
    "        transforms.ToTensor(),\n",
    "        transforms.Normalize((0.1307,), (0.3081,))\n",
    "    ])\n",
    "    \n",
    "    # Charger quelques données de test\n",
    "    test_dataset = torchvision.datasets.MNIST(\n",
    "        root='./data', \n",
    "        train=False,\n",
    "        download=True, \n",
    "        transform=transform\n",
    "    )\n",
    "    \n",
    "    # Créer un petit DataLoader pour la démonstration\n",
    "    test_loader = DataLoader(test_dataset, batch_size=10, shuffle=True)\n",
    "   \n",
    "    \n",
    "    # Obtenir un batch de données pour la démonstration\n",
    "    images, true_labels = next(iter(test_loader))\n",
    "    \n",
    "    # Faire des prédictions\n",
    "    predictions = model.predict(images)\n",
    "    \n",
    "    # Visualiser les résultats\n",
    "    plt.figure(figsize=(15, 3))\n",
    "    for i in range(10):\n",
    "        plt.subplot(1, 10, i+1)\n",
    "        plt.imshow(images[i].squeeze().numpy(), cmap='gray')\n",
    "        color = 'green' if predictions[i] == true_labels[i] else 'red'\n",
    "        plt.title(f'Pred: {predictions[i]}\\nVrai: {true_labels[i]}', \n",
    "                 color=color, \n",
    "                 fontsize=8)\n",
    "        plt.axis('off')\n",
    "    plt.tight_layout()\n",
    "    plt.show()\n",
    "    \n",
    "    # Afficher quelques statistiques\n",
    "    correct = (predictions == true_labels).sum().item()\n",
    "    total = len(predictions)\n",
    "    print(f\"Précision sur l'échantillon: {100 * correct / total:.2f}%\")\n",
    "    \n",
    "    return images, predictions, true_labels\n",
    "\n",
    "def demo_individual_prediction(model, index=None):\n",
    "    \"\"\"\n",
    "    Faire une prédiction sur une seule image du jeu de test\n",
    "    \"\"\"\n",
    "    transform = transforms.Compose([\n",
    "        transforms.ToTensor(),\n",
    "        transforms.Normalize((0.1307,), (0.3081,))\n",
    "    ])\n",
    "    \n",
    "    # Charger le dataset de test\n",
    "    test_dataset = torchvision.datasets.MNIST(\n",
    "        root='./data', \n",
    "        train=False,\n",
    "        download=True, \n",
    "        transform=transform\n",
    "    )\n",
    "    \n",
    "    # Si aucun index n'est spécifié, en choisir un au hasard\n",
    "    if index is None:\n",
    "        index = torch.randint(0, len(test_dataset), (1,)).item()\n",
    "    \n",
    "    # Obtenir une image\n",
    "    image, true_label = test_dataset[index]\n",
    "    \n",
    "    # Faire une prédiction\n",
    "    prediction = model.predict(image.unsqueeze(0))\n",
    "    \n",
    "    # Visualiser l'image et la prédiction\n",
    "    plt.figure(figsize=(3, 3))\n",
    "    plt.imshow(image.squeeze().numpy(), cmap='gray')\n",
    "    color = 'green' if prediction.item() == true_label else 'red'\n",
    "    plt.title(f'Prédiction: {prediction.item()}\\nVrai label: {true_label}', \n",
    "             color=color)\n",
    "    plt.axis('off')\n",
    "    plt.show()\n",
    "    \n",
    "    return prediction.item(), true_label"
   ]
  },
  {
   "cell_type": "markdown",
   "id": "e621a1f2-28a2-4a63-b06e-6c851f29c4a4",
   "metadata": {},
   "source": [
    "### Prédiction"
   ]
  },
  {
   "cell_type": "code",
   "execution_count": 67,
   "id": "9232f558-5821-4da6-abe2-2b08db1f8d54",
   "metadata": {},
   "outputs": [
    {
     "name": "stdout",
     "output_type": "stream",
     "text": [
      "\n",
      "Chargement du modèle\n",
      "Modèle chargé depuis mnist_classifier.pth\n",
      "\n",
      "Prédictionssur un échantillon\n"
     ]
    },
    {
     "data": {
      "image/png": "[encoded data removed]",
      "text/plain": [
       "<Figure size 1500x300 with 10 Axes>"
      ]
     },
     "metadata": {},
     "output_type": "display_data"
    },
    {
     "name": "stdout",
     "output_type": "stream",
     "text": [
      "Précision sur l'échantillon: 100.00%\n",
      "\n",
      "Prédiction sur une image aléatoire\n"
     ]
    },
    {
     "data": {
      "image/png": "[encoded data removed]",
      "text/plain": [
       "<Figure size 300x300 with 1 Axes>"
      ]
     },
     "metadata": {},
     "output_type": "display_data"
    }
   ],
   "source": [
    "def main():\n",
    "    \n",
    "    # Chargement du modèle \n",
    "    print(\"\\nChargement du modèle\")\n",
    "    # - Créer une nouvelle instance du modèle\n",
    "    model = MNISTClassifier()\n",
    "    # - Charger les poids sauvegardés\n",
    "    model.load_model('mnist_classifier.pth')\n",
    "\n",
    "    # Prédictions sur un échantillon\n",
    "    print(\"\\nPrédictionssur un échantillon\")\n",
    "    images, predictions, true_labels = demo_prediction(model)\n",
    "    \n",
    "    # Prédiction individuelle\n",
    "    print(\"\\nPrédiction sur une image aléatoire\")\n",
    "    pred, true_label = demo_individual_prediction(model)\n",
    "    \n",
    "#    # 4. Permettre à l'utilisateur de faire des prédictions sur des images spécifiques\n",
    "#    while True:\n",
    "#        try:\n",
    "#            user_input = input(\"\\nEntrez un numéro d'image (0-9999) ou 'q' pour quitter: \")\n",
    "#            if user_input.lower() == 'q':\n",
    "#                break\n",
    "#            index = int(user_input)\n",
    "#            if 0 <= index <= 9999:\n",
    "#                pred, true_label = individual_prediction(model, index)\n",
    "#            else:\n",
    "#                print(\"Veuillez entrer un nombre entre 0 et 9999\")\n",
    "#        except ValueError:\n",
    "#            print(\"Entrée invalide\")\n",
    "\n",
    "if __name__ == '__main__':\n",
    "    main()"
   ]
  },
  {
   "cell_type": "code",
   "execution_count": null,
   "id": "5b3d0c95-3070-4aa3-a729-a1824ed84e64",
   "metadata": {},
   "outputs": [],
   "source": []
  }
 ],
 "metadata": {
  "kernelspec": {
   "display_name": "Python 3 (ipykernel)",
   "language": "python",
   "name": "python3"
  },
  "language_info": {
   "codemirror_mode": {
    "name": "ipython",
    "version": 3
   },
   "file_extension": ".py",
   "mimetype": "text/x-python",
   "name": "python",
   "nbconvert_exporter": "python",
   "pygments_lexer": "ipython3",
   "version": "3.10.12"
  }
 },
 "nbformat": 4,
 "nbformat_minor": 5
}
